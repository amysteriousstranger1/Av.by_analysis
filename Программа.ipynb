{
 "cells": [
  {
   "cell_type": "markdown",
   "id": "2496cbed",
   "metadata": {},
   "source": [
    "# Общие данные"
   ]
  },
  {
   "cell_type": "markdown",
   "id": "b29eec7a",
   "metadata": {},
   "source": [
    "### Код без функций"
   ]
  },
  {
   "cell_type": "code",
   "execution_count": 8,
   "id": "00bfc3c5",
   "metadata": {
    "ExecuteTime": {
     "end_time": "2022-10-12T13:27:34.821098Z",
     "start_time": "2022-10-12T13:26:55.562519Z"
    }
   },
   "outputs": [
    {
     "name": "stdout",
     "output_type": "stream",
     "text": [
      "https://cars.av.by/ford/explorer/101993184\n",
      "профессии ясная\n",
      "None\n"
     ]
    }
   ],
   "source": [
    "import logging\n",
    "\n",
    "from aiogram.contrib.fsm_storage.memory import MemoryStorage\n",
    "from aiogram.dispatcher import FSMContext\n",
    "from aiogram.dispatcher.filters.state import State, StatesGroup\n",
    "from aiogram import Bot, Dispatcher, executor, types\n",
    "import markup as nav\n",
    "from aiogram.types import InlineKeyboardMarkup, InlineKeyboardButton\n",
    "\n",
    "\n",
    "class FSMUrl(StatesGroup):\n",
    "    autoruurl = State()\n",
    "\n",
    "\n",
    "TOKEN = \"5421953900:AAEtg_wMMxbpf-U3t9iZTBVXN63B_io8Ivo\"\n",
    "\n",
    "bot = Bot(token=TOKEN)\n",
    "dp = Dispatcher(bot, storage=MemoryStorage())\n",
    "\n",
    "startmenutext = \"\"\"\n",
    "Привет, {0.first_name}!\n",
    "\n",
    "Для продолжения пользования ботом воспользуйся кнопкой меню ниже!🚀\n",
    "\"\"\"\n",
    "\n",
    "menutext = \"\"\"\n",
    "Я - DueninCars бот 💰🚘.\n",
    "\n",
    "Со мной ты можешь легко и удобно посчитать выгоду от покупки автомобиля в Республике Беларусь и продажи его в России.\n",
    "\n",
    "Все, что нужно есть в меню ниже.\n",
    "\"\"\"\n",
    "\n",
    "helptext = \"\"\"\n",
    "*Нажимай меню и выбирай из 4 основных вариантов:*\n",
    "\n",
    "1. *\"3 в 1\"* - в нем мы проанализируем данные исходя из 3 сайтов сразу\n",
    "2. *Auto.ru* - тут ты получишь данные исключительно из этого портала\n",
    "3. *Drom.ru* - тут ты получишь данные исключительно из этого портала\n",
    "4. *Avito.ru* - тут ты получишь данные исключительно из этого портала\n",
    "\"\"\"\n",
    "autorutext = \"\"\"\n",
    "*Ты выбрал анализ цен по Auto.ru*.\n",
    " Для продолжения анализа тебе нужно найти интересующий тебя поддержанный автомобиль на Av.by и прислать ссылку на него в наш бот\"\n",
    "\"\"\"\n",
    "\n",
    "\n",
    "@dp.message_handler(commands=['start'])\n",
    "async def command_start(message: types.Message):\n",
    "    await bot.send_message(message.from_user.id, startmenutext.format(message.from_user),\n",
    "                           reply_markup=nav.mainMenu)\n",
    "\n",
    "\n",
    "@dp.message_handler()\n",
    "async def bot_menu(message: types.Message):\n",
    "    if message.text == 'ℹ Меню':\n",
    "        await bot.send_message(message.from_user.id, menutext.format(message.from_user), reply_markup=nav.menubuttons)\n",
    "\n",
    "\n",
    "@dp.callback_query_handler(text='helptextquery')\n",
    "async def help_command(callback: types.CallbackQuery):\n",
    "    await callback.message.delete()\n",
    "    await callback.message.answer(helptext, reply_markup=nav.helpbuttons, parse_mode=\"Markdown\")\n",
    "    await callback.answer()\n",
    "\n",
    "\n",
    "@dp.callback_query_handler(text='menuhelp')\n",
    "async def help_back(callback: types.CallbackQuery):\n",
    "    await callback.message.delete()\n",
    "    await callback.message.answer(menutext, reply_markup=nav.menubuttons)\n",
    "    await callback.answer()\n",
    "\n",
    "\n",
    "@dp.callback_query_handler(text='autoru')\n",
    "async def autorucommand(callback: types.CallbackQuery):\n",
    "    await callback.message.delete()\n",
    "    await callback.message.answer(autorutext, reply_markup=nav.helpbuttons, parse_mode=\"Markdown\")\n",
    "    await FSMUrl.autoruurl.set()\n",
    "    await callback.answer()\n",
    "\n",
    "@dp.message_handler(state=FSMUrl.autoruurl)\n",
    "async def auto_ru_url_function(message: types.Message, state: FSMContext):\n",
    "    autourl = message.text\n",
    "    await state.update_data(autoruurl=message.text)\n",
    "\n",
    "    await state.finish()\n",
    "\n",
    "if __name__ == '__main__':\n",
    "    executor.start_polling(dp, skip_updates=True)\n"
   ]
  },
  {
   "cell_type": "markdown",
   "id": "d9609356",
   "metadata": {},
   "source": [
    "### Библиотеки"
   ]
  },
  {
   "cell_type": "code",
   "execution_count": 2,
   "id": "00f0d258",
   "metadata": {
    "ExecuteTime": {
     "end_time": "2022-10-12T13:25:11.598726Z",
     "start_time": "2022-10-12T13:25:10.575053Z"
    }
   },
   "outputs": [],
   "source": [
    "from fake_useragent import UserAgent\n",
    "import requests\n",
    "import pandas as pd\n",
    "from bs4 import BeautifulSoup\n",
    "import re\n",
    "import math\n",
    "import csv\n",
    "from selenium import webdriver\n",
    "import time\n",
    "from seleniumwire import webdriver\n",
    "from selenium.webdriver.common.by import By"
   ]
  },
  {
   "cell_type": "markdown",
   "id": "a82fc191",
   "metadata": {},
   "source": [
    "### Необходимые словари для auto.ru"
   ]
  },
  {
   "cell_type": "code",
   "execution_count": 3,
   "id": "453ad796",
   "metadata": {
    "ExecuteTime": {
     "end_time": "2022-10-12T13:25:11.804833Z",
     "start_time": "2022-10-12T13:25:11.781725Z"
    }
   },
   "outputs": [],
   "source": [
    "brand_name = {'Acura': 'acura', 'Alfa Romeo': 'alfa_romeo', 'Aston Martin': 'aston_martin',\n",
    " 'Audi': 'audi', 'BMW': 'bmw', 'Bentley': 'bentley', 'Brilliance': 'brilliance',\n",
    " 'Changan': 'changan', 'Chery': 'chery', 'Chevrolet': 'chevrolet', 'Citroen': 'citroen',\n",
    " 'EXEED': 'exeed', 'FAW': 'faw', 'Ferrari': 'ferrari', 'Fiat': 'fiat', 'Ford': 'ford',\n",
    " 'Geely': 'geely', 'Haval': 'haval', 'Honda': 'honda', 'Hyundai': 'hyundai',\n",
    " 'Infiniti': 'infiniti', 'JAC': 'jac', 'Jeep': 'jeep', 'Kia': 'kia',\n",
    " 'Lada': 'vaz', 'Lamborghini': 'lamborghini', 'MINI': 'mini', 'Maserati': 'maserati',\n",
    " 'McLaren': 'mclaren', 'Mercedes-Benz': 'mercedes', 'Mitsubishi': 'mitsubishi',\n",
    " 'Nissan': 'nissan', 'Opel': 'opel', 'Peugeot': 'peugeot', 'Porsche': 'porsche',\n",
    " 'Renault': 'renault', 'SEAT': 'seat', 'Skoda': 'skoda', 'Smart': 'smart',\n",
    " 'Suzuki': 'suzuki', 'Toyota': 'toyota', 'Volkswagen': 'volkswagen',\n",
    " 'Volvo': 'volvo', 'Vortex': 'vortex', 'Zotye': 'zotye'}\n",
    "\n",
    "transmission_name = {'автомат': 'AUTOMATIC', 'автоматическая': 'AUTOMATIC', 'робот': 'ROBOT',\n",
    "                    'вариатор': 'VARIATOR', 'механика':'MECHANICAL'}\n",
    "\n",
    "engine_group_name = {'бензин': 'GASOLINE', 'дизель': 'DIESEL', 'гибрид': 'HYBRID', 'электро': \"ELECTRO\"}\n",
    "\n",
    "gear_type_name = {'передний': 'FORWARD_CONTROL', 'задний': 'REAR_DRIVE', \"полный\": 'ALL_WHEEL_DRIVE'}\n",
    "\n",
    "param_auto_ru = {'brand': None, 'model': None, 'transmission': None, 'year': None,\n",
    "         'engine_group': None,'gear_type': None,\n",
    "         'displacement_from': None, 'displacement_to': None, 'price_from' : None,\n",
    "        'price_to' : None, 'km_age_from' : None, 'km_age_to': None} \n",
    "\n",
    "# Непонятно как работает body_type_group, поэтому пока без него\n",
    "# Кроме этого следует создать словари с моделями машин"
   ]
  },
  {
   "cell_type": "markdown",
   "id": "5c1fc5c0",
   "metadata": {},
   "source": [
    "# Скрапинг данных из av.by по ссылке"
   ]
  },
  {
   "cell_type": "markdown",
   "id": "74089147",
   "metadata": {},
   "source": [
    "### Получение параметров av.by"
   ]
  },
  {
   "cell_type": "code",
   "execution_count": 4,
   "id": "d39715a1",
   "metadata": {
    "ExecuteTime": {
     "end_time": "2022-10-12T13:25:13.318084Z",
     "start_time": "2022-10-12T13:25:13.303152Z"
    }
   },
   "outputs": [],
   "source": [
    "def response_av_by(real_url):\n",
    "    fake_ua = {'user-agent': UserAgent().random}\n",
    "    response = requests.get(url=real_url, headers=fake_ua)\n",
    "    \n",
    "    brand, model = real_url.split('/')[3:-1]\n",
    "    soupUrl = BeautifulSoup(response.text, 'lxml')\n",
    "\n",
    "    params = str(soupUrl.find('div', class_='card__params'))\n",
    "    params = re.sub('[·/;,]', '', params)\n",
    "\n",
    "    counter = 0\n",
    "    while counter != len(params):\n",
    "        if params[counter]== '<':\n",
    "            a = counter\n",
    "            counter += 1\n",
    "        elif params[counter] == '>':\n",
    "            b = counter\n",
    "            params = params[:a] + params[b + 1:]\n",
    "            counter = 0\n",
    "        else:\n",
    "            counter += 1\n",
    "    \n",
    "    usd_price = soupUrl.find('div', class_='card__price-secondary')\n",
    "    usd_price = re.sub('[≈$]', '', usd_price.text).split()\n",
    "    usd_price = int(''.join(usd_price))\n",
    "\n",
    "    params = params.split()\n",
    "    year = int(params[0])\n",
    "    transmission = params[2]\n",
    "    displacement = int(float(params[3]) * 1000)\n",
    "    fuel = params[5]\n",
    "    km = int(params[6] + params[7])\n",
    "    \n",
    "    \n",
    "    return usd_price, brand, model, year, transmission, displacement, fuel, km"
   ]
  },
  {
   "cell_type": "markdown",
   "id": "103575a5",
   "metadata": {},
   "source": [
    "# Auto.ru парсинг автомобилей"
   ]
  },
  {
   "cell_type": "markdown",
   "id": "f7394c21",
   "metadata": {},
   "source": [
    "###  Функция входа на страницу"
   ]
  },
  {
   "cell_type": "code",
   "execution_count": 5,
   "id": "261d284c",
   "metadata": {
    "ExecuteTime": {
     "end_time": "2022-10-12T13:25:14.974476Z",
     "start_time": "2022-10-12T13:25:14.967348Z"
    }
   },
   "outputs": [],
   "source": [
    "def response_auto_ru(url):\n",
    "    parametrs_av_by = response_av_by(url)\n",
    "\n",
    "    usd_price = parametrs_av_by[0]\n",
    "    param_auto_ru['brand'] = parametrs_av_by[1]\n",
    "    param_auto_ru['model'] = parametrs_av_by[2]\n",
    "    param_auto_ru['year'] = parametrs_av_by[3]\n",
    "    param_auto_ru['transmission'] = transmission_name[parametrs_av_by[4]]\n",
    "    param_auto_ru['displacement_from'] = parametrs_av_by[5]\n",
    "    param_auto_ru['displacement_to'] = parametrs_av_by[5]\n",
    "    param_auto_ru['engine_group'] = engine_group_name[parametrs_av_by[6]]\n",
    "    param_auto_ru['km_age_from'] = int(parametrs_av_by[7] * 0.5)\n",
    "    param_auto_ru['km_age_to'] = int(parametrs_av_by[7] * 1.5)\n",
    "    real_url =  f\"https://auto.ru/cars/{param['brand']}/{param['model']}/{param['year']}-year/all\" \n",
    "    del param['brand'], param['model'], param['year']\n",
    "    response = requests.get(url=real_url, params = param)\n",
    "    if response.status_code == 200:\n",
    "        if param['transmission'] == 'AUTOMATIC':\n",
    "            return base_from_auto_ru(str(response.url) + '&transmission=ROBOT&transmission=VARIATOR')\n",
    "        else:\n",
    "            return base_from_auto_ru(response.url)\n",
    "    else:\n",
    "        print(response.status_code)\n",
    "        return 'Сайт не работает'"
   ]
  },
  {
   "cell_type": "markdown",
   "id": "c8e6f866",
   "metadata": {},
   "source": [
    "### Функция парсинга"
   ]
  },
  {
   "cell_type": "code",
   "execution_count": 6,
   "id": "ea5c8b97",
   "metadata": {
    "ExecuteTime": {
     "end_time": "2022-10-12T13:25:15.640242Z",
     "start_time": "2022-10-12T13:25:15.600021Z"
    }
   },
   "outputs": [],
   "source": [
    "def base_from_auto_ru(url):\n",
    "    kms, names, links, prices = [], [], [], []\n",
    "    with webdriver.Chrome() as browser:\n",
    "        browser.get(url)\n",
    "        if 'showcaptcha' in str(browser.current_url):\n",
    "            browser.find_element(By.CLASS_NAME, \"CheckboxCaptcha\").click()\n",
    "            time.sleep(1)\n",
    "            url_of_captcha  = browser.find_element(By.CLASS_NAME, \"AdvancedCaptcha-Image\").get_attribute('src')\n",
    "            with open('captchaname.png', 'wb') as file:\n",
    "                request_url_of_captcha = requests.get(url_of_captcha).content\n",
    "                file.write(request_url_of_captcha)\n",
    "            captcha = input()\n",
    "            browser.find_element(By.CLASS_NAME, \"Textinput-Control\").send_keys(captcha)\n",
    "            browser.find_element(By.XPATH, \"/html/body/div[1]/div/div/form/div/div[3]/button[3]\").click()\n",
    "            time.sleep(1)\n",
    "\n",
    "        soupUrl = BeautifulSoup(browser.page_source, 'lxml')\n",
    "        for i in soupUrl.find('span', class_='ButtonWithLoader__content').text.split():\n",
    "            if i.isdigit():\n",
    "                pages = math.ceil(int(i) / 37)\n",
    "\n",
    "\n",
    "        for car in soupUrl.find_all('div', class_='ListingItem'):\n",
    "            try:\n",
    "                km = ''.join(car.find('div', class_='ListingItem__kmAge').text.split()[:-1])\n",
    "                kms.append(km)\n",
    "            except:\n",
    "                km = None\n",
    "                kms.append(km)\n",
    "            try:\n",
    "                name = car.find('a', class_='Link ListingItemTitle__link').text\n",
    "                names.append(name)\n",
    "            except:\n",
    "                name = None\n",
    "                names.append(name)\n",
    "            try:\n",
    "                link = car.find('a', class_='Link ListingItemTitle__link').get('href')\n",
    "                links.append(link)\n",
    "            except:\n",
    "                link = None\n",
    "                links.append(link)\n",
    "            try:\n",
    "                price = car.find('div', class_='ListingItem__priceBlock').text\n",
    "                if price.find('₽', 1) + 1 == len(price):\n",
    "                    price = int(''.join(price.split()[:-1]))\n",
    "                else:\n",
    "                    dm = []\n",
    "                    p = str()\n",
    "                    for x in price:\n",
    "                        if x.isdigit():\n",
    "                            p += x\n",
    "                        elif x == '₽':\n",
    "                            dm.append(int(p))\n",
    "                            p = str()\n",
    "                    price = dm\n",
    "                prices.append(price)\n",
    "            except:\n",
    "                try:\n",
    "                    price = car.find('a', class_='Link ListingItemPrice__link').text\n",
    "                    price = int(''.join(price.split()[:-1]))\n",
    "                except:\n",
    "                    price = None\n",
    "                prices.append(price)\n",
    "\n",
    "\n",
    "\n",
    "        for i in range(2, pages + 1):\n",
    "            browser.find_element(By.XPATH, f\"/html/body/div[2]/div/div[2]/div[3]/div[2]/div/div[2]/div/div[7]/div/span/a[{i}]/span/span\").click()    \n",
    "            time.sleep(5)\n",
    "            if 'showcaptcha' in str(browser.current_url):\n",
    "                browser.find_element(By.CLASS_NAME, \"CheckboxCaptcha\").click()\n",
    "                time.sleep(1)\n",
    "                url_of_captcha  = browser.find_element(By.CLASS_NAME, \"AdvancedCaptcha-Image\").get_attribute('src')\n",
    "                with open('captchaname.png', 'wb') as file:\n",
    "                    request_url_of_captcha = requests.get(url_of_captcha).content\n",
    "                    file.write(request_url_of_captcha)\n",
    "                captcha = input()\n",
    "                browser.find_element(By.CLASS_NAME, \"Textinput-Control\").send_keys(captcha)\n",
    "                browser.find_element(By.XPATH, \"/html/body/div[1]/div/div/form/div/div[3]/button[3]\").click()\n",
    "                time.sleep(1)\n",
    "\n",
    "\n",
    "            s = BeautifulSoup(browser.page_source, 'lxml')\n",
    "\n",
    "            for car in s.find_all('div', class_='ListingItem'):\n",
    "                try:\n",
    "                    km = ''.join(car.find('div', class_='ListingItem__kmAge').text.split()[:-1])\n",
    "                    kms.append(km)\n",
    "                except:\n",
    "                    km = None\n",
    "                    kms.append(km)\n",
    "                try:\n",
    "                    name = car.find('a', class_='Link ListingItemTitle__link').text\n",
    "                    names.append(name)\n",
    "                except:\n",
    "                    name = None\n",
    "                    names.append(name)\n",
    "                try:\n",
    "                    link = car.find('a', class_='Link ListingItemTitle__link').get('href')\n",
    "                    links.append(link)\n",
    "                except:\n",
    "                    link = None\n",
    "                    links.append(link)\n",
    "                try:\n",
    "                    price = car.find('div', class_='ListingItem__priceBlock').text\n",
    "                    if price.find('₽', 1) + 1 == len(price):\n",
    "                        price = int(''.join(price.split()[:-1]))\n",
    "                    else:\n",
    "                        dm = []\n",
    "                        p = str()\n",
    "                        for x in price:\n",
    "                            if x.isdigit():\n",
    "                                p += x\n",
    "                            elif x == '₽':\n",
    "                                dm.append(int(p))\n",
    "                                p = str()\n",
    "                        price = dm\n",
    "                    prices.append(price)\n",
    "                except:\n",
    "                    try:\n",
    "                        price = car.find('a', class_='Link ListingItemPrice__link').text\n",
    "                        price = int(''.join(price.split()[:-1]))\n",
    "                    except:\n",
    "                        price = None\n",
    "                    prices.append(price)\n",
    "        browser.close()\n",
    "\n",
    "        bd = {'Name': names, 'Price': prices, 'Km': kms, 'Link': links}\n",
    "        autorubd = pd.DataFrame(bd)\n",
    "        dictreal = []\n",
    "        dictdiscountprice = []\n",
    "\n",
    "        for i in autorubd.Price:\n",
    "            if isinstance(i, int):\n",
    "                dictreal.append(int(i))\n",
    "                dictdiscountprice.append(None)\n",
    "            elif i != None and len(i) == 2:\n",
    "                dictreal.append(int(i[1]))\n",
    "                dictdiscountprice.append(int(i[0]))\n",
    "            elif i != None and len(i) == 1:\n",
    "                dictreal.append(int(i[0]))\n",
    "                dictdiscountprice.append(None)\n",
    "            else:\n",
    "                dictreal.append(None)\n",
    "                dictdiscountprice.append(None)\n",
    "        autorubd = autorubd.drop('Price', axis=1)\n",
    "        autorubd['Real_price'] = dictreal\n",
    "        autorubd['Discount_price'] = dictdiscountprice\n",
    "        autorubd.to_csv('database_autoru.csv')\n",
    "        \n",
    "        return 'Загрузка базы данных завершена'"
   ]
  },
  {
   "cell_type": "markdown",
   "id": "391e5a73",
   "metadata": {},
   "source": [
    "# Drom.ru парсинг автомобилей"
   ]
  },
  {
   "cell_type": "markdown",
   "id": "896bc3e1",
   "metadata": {},
   "source": [
    "###  Функция входа на страницу"
   ]
  },
  {
   "cell_type": "code",
   "execution_count": null,
   "id": "9a781c88",
   "metadata": {},
   "outputs": [],
   "source": []
  },
  {
   "cell_type": "markdown",
   "id": "00a40006",
   "metadata": {},
   "source": [
    "### Функция парсинга"
   ]
  },
  {
   "cell_type": "code",
   "execution_count": null,
   "id": "96827f64",
   "metadata": {},
   "outputs": [],
   "source": []
  },
  {
   "cell_type": "markdown",
   "id": "a1fef3fb",
   "metadata": {},
   "source": [
    "# Drom.ru парсинг автомобилей"
   ]
  },
  {
   "cell_type": "markdown",
   "id": "422a9dd6",
   "metadata": {},
   "source": [
    "###  Функция входа на страницу"
   ]
  },
  {
   "cell_type": "code",
   "execution_count": null,
   "id": "5d275e90",
   "metadata": {},
   "outputs": [],
   "source": []
  },
  {
   "cell_type": "markdown",
   "id": "4143bb89",
   "metadata": {},
   "source": [
    "### Функция парсинга"
   ]
  },
  {
   "cell_type": "code",
   "execution_count": null,
   "id": "c718038c",
   "metadata": {},
   "outputs": [],
   "source": []
  }
 ],
 "metadata": {
  "kernelspec": {
   "display_name": "Python 3 (ipykernel)",
   "language": "python",
   "name": "python3"
  },
  "language_info": {
   "codemirror_mode": {
    "name": "ipython",
    "version": 3
   },
   "file_extension": ".py",
   "mimetype": "text/x-python",
   "name": "python",
   "nbconvert_exporter": "python",
   "pygments_lexer": "ipython3",
   "version": "3.9.7"
  },
  "nbTranslate": {
   "displayLangs": [
    "*"
   ],
   "hotkey": "alt-t",
   "langInMainMenu": true,
   "sourceLang": "en",
   "targetLang": "fr",
   "useGoogleTranslate": true
  }
 },
 "nbformat": 4,
 "nbformat_minor": 5
}
